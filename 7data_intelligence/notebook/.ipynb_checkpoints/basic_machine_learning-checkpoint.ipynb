{
 "cells": [
  {
   "cell_type": "code",
   "execution_count": 1,
   "metadata": {},
   "outputs": [],
   "source": [
    "import numpy as np\n",
    "import matplotlib.pyplot as plt\n",
    "import seaborn as sns\n",
    "import pandas as pd\n",
    "%matplotlib inline"
   ]
  },
  {
   "cell_type": "markdown",
   "metadata": {},
   "source": [
    "###  1 Linear Regression  线性回归"
   ]
  },
  {
   "cell_type": "code",
   "execution_count": 2,
   "metadata": {},
   "outputs": [],
   "source": [
    "df = pd.read_csv(\"data/linear_regression_df.csv\")"
   ]
  },
  {
   "cell_type": "code",
   "execution_count": 3,
   "metadata": {},
   "outputs": [
    {
     "name": "stdout",
     "output_type": "stream",
     "text": [
      "     X      Y\n",
      "0  108  392.5\n",
      "1   19   46.2\n",
      "2   13   15.7\n",
      "3  124  422.2\n",
      "4   40  119.4\n"
     ]
    }
   ],
   "source": [
    "print(df.head())"
   ]
  },
  {
   "cell_type": "code",
   "execution_count": 4,
   "metadata": {},
   "outputs": [
    {
     "data": {
      "text/plain": [
       "Text(0.5,10.256,'Explanatory')"
      ]
     },
     "execution_count": 4,
     "metadata": {},
     "output_type": "execute_result"
    },
    {
     "data": {
      "image/png": "[encoded data removed]",
      "text/plain": [
       "<matplotlib.figure.Figure at 0x23fd843f6a0>"
      ]
     },
     "metadata": {},
     "output_type": "display_data"
    }
   ],
   "source": [
    "sns.set_context(\"notebook\", font_scale=1.1)\n",
    "sns.set_style(\"ticks\")\n",
    "sns.lmplot(\"X\", \"Y\", data=df)\n",
    "plt.ylabel(\"Response\")\n",
    "plt.xlabel(\"Explanatory\")"
   ]
  },
  {
   "cell_type": "code",
   "execution_count": 5,
   "metadata": {},
   "outputs": [],
   "source": [
    "from sklearn.linear_model import LinearRegression"
   ]
  },
  {
   "cell_type": "code",
   "execution_count": 6,
   "metadata": {},
   "outputs": [
    {
     "name": "stdout",
     "output_type": "stream",
     "text": [
      "20     6\n",
      "21     9\n",
      "22     9\n",
      "23     3\n",
      "24    29\n",
      "25     7\n",
      "26     4\n",
      "27    20\n",
      "28     7\n",
      "29     4\n",
      "30     0\n",
      "31    25\n",
      "32     6\n",
      "33     5\n",
      "34    22\n",
      "35    11\n",
      "36    61\n",
      "37    12\n",
      "38     4\n",
      "39    16\n",
      "40    13\n",
      "41    60\n",
      "42    41\n",
      "43    37\n",
      "44    55\n",
      "45    41\n",
      "46    11\n",
      "47    27\n",
      "48     8\n",
      "49     3\n",
      "50    17\n",
      "51    13\n",
      "52    13\n",
      "53    15\n",
      "54     8\n",
      "55    29\n",
      "56    30\n",
      "57    24\n",
      "58     9\n",
      "59    31\n",
      "60    14\n",
      "61    53\n",
      "62    26\n",
      "Name: X, dtype: int64\n"
     ]
    }
   ],
   "source": [
    "print(df.X[20:len(df.X)])"
   ]
  },
  {
   "cell_type": "code",
   "execution_count": 7,
   "metadata": {},
   "outputs": [
    {
     "name": "stdout",
     "output_type": "stream",
     "text": [
      "[ 6  9  9  3 29  7  4 20  7  4  0 25  6  5 22 11 61 12  4 16 13 60 41 37 55\n",
      " 41 11 27  8  3 17 13 13 15  8 29 30 24  9 31 14 53 26]\n"
     ]
    }
   ],
   "source": [
    "print(np.asarray(df.X[20:len(df.X)]))"
   ]
  },
  {
   "cell_type": "code",
   "execution_count": 8,
   "metadata": {},
   "outputs": [
    {
     "name": "stdout",
     "output_type": "stream",
     "text": [
      "[[ 6]\n",
      " [ 9]\n",
      " [ 9]\n",
      " [ 3]\n",
      " [29]\n",
      " [ 7]\n",
      " [ 4]\n",
      " [20]\n",
      " [ 7]\n",
      " [ 4]\n",
      " [ 0]\n",
      " [25]\n",
      " [ 6]\n",
      " [ 5]\n",
      " [22]\n",
      " [11]\n",
      " [61]\n",
      " [12]\n",
      " [ 4]\n",
      " [16]\n",
      " [13]\n",
      " [60]\n",
      " [41]\n",
      " [37]\n",
      " [55]\n",
      " [41]\n",
      " [11]\n",
      " [27]\n",
      " [ 8]\n",
      " [ 3]\n",
      " [17]\n",
      " [13]\n",
      " [13]\n",
      " [15]\n",
      " [ 8]\n",
      " [29]\n",
      " [30]\n",
      " [24]\n",
      " [ 9]\n",
      " [31]\n",
      " [14]\n",
      " [53]\n",
      " [26]]\n"
     ]
    }
   ],
   "source": [
    "print(np.asarray(df.X[20:len(df.X)]).reshape(-1, 1))"
   ]
  },
  {
   "cell_type": "code",
   "execution_count": 36,
   "metadata": {},
   "outputs": [],
   "source": [
    "trainX = (np.asarray(df.X[20:len(df.X)])).reshape(-1, 1)\n",
    "trainY = (np.asarray(df.Y[20:len(df.Y)])).ravel()"
   ]
  },
  {
   "cell_type": "code",
   "execution_count": 37,
   "metadata": {},
   "outputs": [
    {
     "name": "stdout",
     "output_type": "stream",
     "text": [
      "[  14.8   48.7   52.1   13.2  103.9   77.5   11.8   98.1   27.9   38.1\n",
      "    0.    69.2   14.6   40.3  161.5   57.2  217.6   58.1   12.6   59.6\n",
      "   89.9  202.4  181.3  152.8  162.8   73.4   21.3   92.6   76.1   39.9\n",
      "  142.1   93.    31.9   32.1   55.6  133.3  194.5  137.9   87.4  209.8\n",
      "   95.5  244.6  187.5]\n"
     ]
    }
   ],
   "source": [
    "print(trainY)"
   ]
  },
  {
   "cell_type": "code",
   "execution_count": 38,
   "metadata": {},
   "outputs": [],
   "source": [
    "testX = (np.asarray(df.X[:20])).reshape(-1, 1)\n",
    "testY = (np.asarray(df.Y[:20])).ravel()"
   ]
  },
  {
   "cell_type": "code",
   "execution_count": 39,
   "metadata": {},
   "outputs": [],
   "source": [
    "linear_regression_model = LinearRegression()"
   ]
  },
  {
   "cell_type": "code",
   "execution_count": 40,
   "metadata": {},
   "outputs": [
    {
     "data": {
      "text/plain": [
       "LinearRegression(copy_X=True, fit_intercept=True, n_jobs=1, normalize=False)"
      ]
     },
     "execution_count": 40,
     "metadata": {},
     "output_type": "execute_result"
    }
   ],
   "source": [
    "linear_regression_model.fit(trainX, trainY)"
   ]
  },
  {
   "cell_type": "code",
   "execution_count": 41,
   "metadata": {},
   "outputs": [
    {
     "data": {
      "text/plain": [
       "0.70365490535488551"
      ]
     },
     "execution_count": 41,
     "metadata": {},
     "output_type": "execute_result"
    }
   ],
   "source": [
    "linear_regression_model.score(trainX, trainY)"
   ]
  },
  {
   "cell_type": "code",
   "execution_count": 42,
   "metadata": {},
   "outputs": [
    {
     "name": "stdout",
     "output_type": "stream",
     "text": [
      "系数： [ 3.43948437]\n",
      "截距： 24.0049325547\n",
      "R²值: 0.703654905355\n"
     ]
    }
   ],
   "source": [
    "print(\"系数：\", linear_regression_model.coef_)\n",
    "print(\"截距：\", linear_regression_model.intercept_)\n",
    "print(\"R²值:\", linear_regression_model.score(trainX, trainY))"
   ]
  },
  {
   "cell_type": "code",
   "execution_count": 43,
   "metadata": {},
   "outputs": [],
   "source": [
    "linear_regression_predicted = linear_regression_model.predict(testX)"
   ]
  },
  {
   "cell_type": "code",
   "execution_count": 44,
   "metadata": {},
   "outputs": [
    {
     "name": "stdout",
     "output_type": "stream",
     "text": [
      "[ 395.46924427   89.35513554   68.71822934  450.50099415  161.58430726\n",
      "  220.05554151  103.11307301   72.1577137   178.7817291    58.39977623\n",
      "   41.20235439  189.10018221   61.8392606   103.11307301   48.08132313\n",
      "   30.88390129  106.55255738   44.64183876   34.32338566  103.11307301]\n"
     ]
    }
   ],
   "source": [
    "print(linear_regression_predicted)"
   ]
  },
  {
   "cell_type": "code",
   "execution_count": 45,
   "metadata": {},
   "outputs": [],
   "source": [
    "from sklearn.metrics import mean_squared_error"
   ]
  },
  {
   "cell_type": "code",
   "execution_count": 46,
   "metadata": {},
   "outputs": [
    {
     "name": "stdout",
     "output_type": "stream",
     "text": [
      "mse值： 1247.70360698\n"
     ]
    }
   ],
   "source": [
    "print(\"mse值：\", mean_squared_error(testY, linear_regression_predicted))"
   ]
  },
  {
   "cell_type": "markdown",
   "metadata": {},
   "source": [
    "###  2 Logistic Regression 逻辑回归"
   ]
  },
  {
   "cell_type": "code",
   "execution_count": 20,
   "metadata": {},
   "outputs": [],
   "source": [
    "from sklearn.linear_model import LogisticRegression"
   ]
  },
  {
   "cell_type": "code",
   "execution_count": 23,
   "metadata": {},
   "outputs": [],
   "source": [
    "df1 = pd.read_csv(\"data/logistic_regression_df.csv\", header=None)"
   ]
  },
  {
   "cell_type": "code",
   "execution_count": 24,
   "metadata": {},
   "outputs": [
    {
     "name": "stdout",
     "output_type": "stream",
     "text": [
      "      0  1\n",
      "0  33.6  1\n",
      "1  26.6  0\n",
      "2  23.3  1\n",
      "3  28.1  0\n",
      "4  43.1  1\n"
     ]
    }
   ],
   "source": [
    "print(df1.head())"
   ]
  },
  {
   "cell_type": "code",
   "execution_count": 25,
   "metadata": {},
   "outputs": [],
   "source": [
    "df1.columns = [\"X\", \"Y\"]"
   ]
  },
  {
   "cell_type": "code",
   "execution_count": 26,
   "metadata": {},
   "outputs": [
    {
     "name": "stdout",
     "output_type": "stream",
     "text": [
      "      X  Y\n",
      "0  33.6  1\n",
      "1  26.6  0\n",
      "2  23.3  1\n",
      "3  28.1  0\n",
      "4  43.1  1\n"
     ]
    }
   ],
   "source": [
    "print(df1.head())"
   ]
  },
  {
   "cell_type": "code",
   "execution_count": 27,
   "metadata": {},
   "outputs": [],
   "source": [
    "logistic_model = LogisticRegression()"
   ]
  },
  {
   "cell_type": "code",
   "execution_count": 31,
   "metadata": {},
   "outputs": [
    {
     "name": "stdout",
     "output_type": "stream",
     "text": [
      "[[ 33.6]\n",
      " [ 26.6]\n",
      " [ 23.3]\n",
      " [ 28.1]\n",
      " [ 43.1]\n",
      " [ 25.6]\n",
      " [ 31. ]\n",
      " [ 35.3]\n",
      " [ 30.5]\n",
      " [  0. ]\n",
      " [ 37.6]\n",
      " [ 38. ]\n",
      " [ 27.1]\n",
      " [ 30.1]\n",
      " [ 25.8]\n",
      " [ 30. ]\n",
      " [ 45.8]\n",
      " [ 29.6]\n",
      " [ 43.3]\n",
      " [ 34.6]\n",
      " [ 39.3]\n",
      " [ 35.4]\n",
      " [ 39.8]\n",
      " [ 29. ]\n",
      " [ 36.6]\n",
      " [ 31.1]\n",
      " [ 39.4]\n",
      " [ 23.2]\n",
      " [ 22.2]\n",
      " [ 34.1]\n",
      " [ 36. ]\n",
      " [ 31.6]\n",
      " [ 24.8]\n",
      " [ 19.9]\n",
      " [ 27.6]\n",
      " [ 24. ]\n",
      " [ 33.2]\n",
      " [ 32.9]\n",
      " [ 38.2]\n",
      " [ 37.1]\n",
      " [ 34. ]\n",
      " [ 40.2]\n",
      " [ 22.7]\n",
      " [ 45.4]\n",
      " [ 27.4]\n",
      " [ 42. ]\n",
      " [ 29.7]\n",
      " [ 28. ]\n",
      " [ 39.1]\n",
      " [  0. ]\n",
      " [ 19.4]\n",
      " [ 24.2]\n",
      " [ 24.4]\n",
      " [ 33.7]\n",
      " [ 34.7]\n",
      " [ 23. ]\n",
      " [ 37.7]\n",
      " [ 46.8]\n",
      " [ 40.5]\n",
      " [ 41.5]\n",
      " [  0. ]\n",
      " [ 32.9]\n",
      " [ 25. ]\n",
      " [ 25.4]\n",
      " [ 32.8]\n",
      " [ 29. ]\n",
      " [ 32.5]\n",
      " [ 42.7]\n",
      " [ 19.6]\n",
      " [ 28.9]\n",
      " [ 32.9]\n",
      " [ 28.6]\n",
      " [ 43.4]\n",
      " [ 35.1]\n",
      " [ 32. ]\n",
      " [ 24.7]\n",
      " [ 32.6]\n",
      " [ 37.7]\n",
      " [ 43.2]\n",
      " [ 25. ]\n",
      " [ 22.4]\n",
      " [  0. ]\n",
      " [ 29.3]\n",
      " [ 24.6]\n",
      " [ 48.8]\n",
      " [ 32.4]\n",
      " [ 36.6]\n",
      " [ 38.5]\n",
      " [ 37.1]\n",
      " [ 26.5]\n",
      " [ 19.1]\n",
      " [ 32. ]\n",
      " [ 46.7]\n",
      " [ 23.8]\n",
      " [ 24.7]\n",
      " [ 33.9]\n",
      " [ 31.6]\n",
      " [ 20.4]\n",
      " [ 28.7]\n",
      " [ 49.7]\n",
      " [ 39. ]\n",
      " [ 26.1]\n",
      " [ 22.5]\n",
      " [ 26.6]\n",
      " [ 39.6]\n",
      " [ 28.7]\n",
      " [ 22.4]\n",
      " [ 29.5]\n",
      " [ 34.3]\n",
      " [ 37.4]\n",
      " [ 33.3]\n",
      " [ 34. ]\n",
      " [ 31.2]\n",
      " [ 34. ]\n",
      " [ 30.5]\n",
      " [ 31.2]\n",
      " [ 34. ]\n",
      " [ 33.7]\n",
      " [ 28.2]\n",
      " [ 23.2]\n",
      " [ 53.2]\n",
      " [ 34.2]\n",
      " [ 33.6]\n",
      " [ 26.8]\n",
      " [ 33.3]\n",
      " [ 55. ]\n",
      " [ 42.9]\n",
      " [ 33.3]\n",
      " [ 34.5]\n",
      " [ 27.9]\n",
      " [ 29.7]\n",
      " [ 33.3]\n",
      " [ 34.5]\n",
      " [ 38.3]\n",
      " [ 21.1]\n",
      " [ 33.8]\n",
      " [ 30.8]\n",
      " [ 28.7]\n",
      " [ 31.2]\n",
      " [ 36.9]\n",
      " [ 21.1]\n",
      " [ 39.5]\n",
      " [ 32.5]\n",
      " [ 32.4]\n",
      " [ 32.8]\n",
      " [  0. ]\n",
      " [ 32.8]\n",
      " [ 30.5]\n",
      " [ 33.7]\n",
      " [ 27.3]\n",
      " [ 37.4]\n",
      " [ 21.9]\n",
      " [ 34.3]\n",
      " [ 40.6]\n",
      " [ 47.9]\n",
      " [ 50. ]\n",
      " [ 24.6]\n",
      " [ 25.2]\n",
      " [ 29. ]\n",
      " [ 40.9]\n",
      " [ 29.7]\n",
      " [ 37.2]\n",
      " [ 44.2]\n",
      " [ 29.7]\n",
      " [ 31.6]\n",
      " [ 29.9]\n",
      " [ 32.5]\n",
      " [ 29.6]\n",
      " [ 31.9]\n",
      " [ 28.4]\n",
      " [ 30.8]\n",
      " [ 35.4]\n",
      " [ 28.9]\n",
      " [ 43.5]\n",
      " [ 29.7]\n",
      " [ 32.7]\n",
      " [ 31.2]\n",
      " [ 67.1]\n",
      " [ 45. ]\n",
      " [ 39.1]\n",
      " [ 23.2]\n",
      " [ 34.9]\n",
      " [ 27.7]\n",
      " [ 26.8]\n",
      " [ 27.6]\n",
      " [ 35.9]\n",
      " [ 30.1]\n",
      " [ 32. ]\n",
      " [ 27.9]\n",
      " [ 31.6]\n",
      " [ 22.6]\n",
      " [ 33.1]\n",
      " [ 30.4]\n",
      " [ 52.3]\n",
      " [ 24.4]\n",
      " [ 39.4]\n",
      " [ 24.3]\n",
      " [ 22.9]\n",
      " [ 34.8]\n",
      " [ 30.9]\n",
      " [ 31. ]\n",
      " [ 40.1]\n",
      " [ 27.3]\n",
      " [ 20.4]\n",
      " [ 37.7]\n",
      " [ 23.9]\n",
      " [ 37.5]\n",
      " [ 37.7]\n",
      " [ 33.2]\n",
      " [ 35.5]\n",
      " [ 27.7]\n",
      " [ 42.8]\n",
      " [ 34.2]\n",
      " [ 42.6]\n",
      " [ 34.2]\n",
      " [ 41.8]\n",
      " [ 35.8]\n",
      " [ 30. ]\n",
      " [ 29. ]\n",
      " [ 37.8]\n",
      " [ 34.6]\n",
      " [ 31.6]\n",
      " [ 25.2]\n",
      " [ 28.8]\n",
      " [ 23.6]\n",
      " [ 34.6]\n",
      " [ 35.7]\n",
      " [ 37.2]\n",
      " [ 36.7]\n",
      " [ 45.2]\n",
      " [ 44. ]\n",
      " [ 46.2]\n",
      " [ 25.4]\n",
      " [ 35. ]\n",
      " [ 29.7]\n",
      " [ 43.6]\n",
      " [ 35.9]\n",
      " [ 44.1]\n",
      " [ 30.8]\n",
      " [ 18.4]\n",
      " [ 29.2]\n",
      " [ 33.1]\n",
      " [ 25.6]\n",
      " [ 27.1]\n",
      " [ 38.2]\n",
      " [ 30. ]\n",
      " [ 31.2]\n",
      " [ 52.3]\n",
      " [ 35.4]\n",
      " [ 30.1]\n",
      " [ 31.2]\n",
      " [ 28. ]\n",
      " [ 24.4]\n",
      " [ 35.8]\n",
      " [ 27.6]\n",
      " [ 33.6]\n",
      " [ 30.1]\n",
      " [ 28.7]\n",
      " [ 25.9]\n",
      " [ 33.3]\n",
      " [ 30.9]\n",
      " [ 30. ]\n",
      " [ 32.1]\n",
      " [ 32.4]\n",
      " [ 32. ]\n",
      " [ 33.6]\n",
      " [ 36.3]\n",
      " [ 40. ]\n",
      " [ 25.1]\n",
      " [ 27.5]\n",
      " [ 45.6]\n",
      " [ 25.2]\n",
      " [ 23. ]\n",
      " [ 33.2]\n",
      " [ 34.2]\n",
      " [ 40.5]\n",
      " [ 26.5]\n",
      " [ 27.8]\n",
      " [ 24.9]\n",
      " [ 25.3]\n",
      " [ 37.9]\n",
      " [ 35.9]\n",
      " [ 32.4]\n",
      " [ 30.4]\n",
      " [ 27. ]\n",
      " [ 26. ]\n",
      " [ 38.7]\n",
      " [ 45.6]\n",
      " [ 20.8]\n",
      " [ 36.1]\n",
      " [ 36.9]\n",
      " [ 36.6]\n",
      " [ 43.3]\n",
      " [ 40.5]\n",
      " [ 21.9]\n",
      " [ 35.5]\n",
      " [ 28. ]\n",
      " [ 30.7]\n",
      " [ 36.6]\n",
      " [ 23.6]\n",
      " [ 32.3]\n",
      " [ 31.6]\n",
      " [ 35.8]\n",
      " [ 52.9]\n",
      " [ 21. ]\n",
      " [ 39.7]\n",
      " [ 25.5]\n",
      " [ 24.8]\n",
      " [ 30.5]\n",
      " [ 32.9]\n",
      " [ 26.2]\n",
      " [ 39.4]\n",
      " [ 26.6]\n",
      " [ 29.5]\n",
      " [ 35.9]\n",
      " [ 34.1]\n",
      " [ 19.3]\n",
      " [ 30.5]\n",
      " [ 38.1]\n",
      " [ 23.5]\n",
      " [ 27.5]\n",
      " [ 31.6]\n",
      " [ 27.4]\n",
      " [ 26.8]\n",
      " [ 35.7]\n",
      " [ 25.6]\n",
      " [ 35.1]\n",
      " [ 35.1]\n",
      " [ 45.5]\n",
      " [ 30.8]\n",
      " [ 23.1]\n",
      " [ 32.7]\n",
      " [ 43.3]\n",
      " [ 23.6]\n",
      " [ 23.9]\n",
      " [ 47.9]\n",
      " [ 33.8]\n",
      " [ 31.2]\n",
      " [ 34.2]\n",
      " [ 39.9]\n",
      " [ 25.9]\n",
      " [ 25.9]\n",
      " [ 32. ]\n",
      " [ 34.7]\n",
      " [ 36.8]\n",
      " [ 38.5]\n",
      " [ 28.7]\n",
      " [ 23.5]\n",
      " [ 21.8]\n",
      " [ 41. ]\n",
      " [ 42.2]\n",
      " [ 31.2]\n",
      " [ 34.4]\n",
      " [ 27.2]\n",
      " [ 42.7]\n",
      " [ 30.4]\n",
      " [ 33.3]\n",
      " [ 39.9]\n",
      " [ 35.3]\n",
      " [ 36.5]\n",
      " [ 31.2]\n",
      " [ 29.8]\n",
      " [ 39.2]\n",
      " [ 38.5]\n",
      " [ 34.9]\n",
      " [ 34. ]\n",
      " [ 27.6]\n",
      " [ 21. ]\n",
      " [ 27.5]\n",
      " [ 32.8]\n",
      " [ 38.4]\n",
      " [  0. ]\n",
      " [ 35.8]\n",
      " [ 34.9]\n",
      " [ 36.2]\n",
      " [ 39.2]\n",
      " [ 25.2]\n",
      " [ 37.2]\n",
      " [ 48.3]\n",
      " [ 43.4]\n",
      " [ 30.8]\n",
      " [ 20. ]\n",
      " [ 25.4]\n",
      " [ 25.1]\n",
      " [ 24.3]\n",
      " [ 22.3]\n",
      " [ 32.3]\n",
      " [ 43.3]\n",
      " [ 32. ]\n",
      " [ 31.6]\n",
      " [ 32. ]\n",
      " [ 45.7]\n",
      " [ 23.7]\n",
      " [ 22.1]\n",
      " [ 32.9]\n",
      " [ 27.7]\n",
      " [ 24.7]\n",
      " [ 34.3]\n",
      " [ 21.1]\n",
      " [ 34.9]\n",
      " [ 32. ]\n",
      " [ 24.2]\n",
      " [ 35. ]\n",
      " [ 31.6]\n",
      " [ 32.9]\n",
      " [ 42.1]\n",
      " [ 28.9]\n",
      " [ 21.9]\n",
      " [ 25.9]\n",
      " [ 42.4]\n",
      " [ 35.7]\n",
      " [ 34.4]\n",
      " [ 42.4]\n",
      " [ 26.2]\n",
      " [ 34.6]\n",
      " [ 35.7]\n",
      " [ 27.2]\n",
      " [ 38.5]\n",
      " [ 18.2]\n",
      " [ 26.4]\n",
      " [ 45.3]\n",
      " [ 26. ]\n",
      " [ 40.6]\n",
      " [ 30.8]\n",
      " [ 42.9]\n",
      " [ 37. ]\n",
      " [  0. ]\n",
      " [ 34.1]\n",
      " [ 40.6]\n",
      " [ 35. ]\n",
      " [ 22.2]\n",
      " [ 30.4]\n",
      " [ 30. ]\n",
      " [ 25.6]\n",
      " [ 24.5]\n",
      " [ 42.4]\n",
      " [ 37.4]\n",
      " [ 29.9]\n",
      " [ 18.2]\n",
      " [ 36.8]\n",
      " [ 34.3]\n",
      " [ 32.2]\n",
      " [ 33.2]\n",
      " [ 30.5]\n",
      " [ 29.7]\n",
      " [ 59.4]\n",
      " [ 25.3]\n",
      " [ 36.5]\n",
      " [ 33.6]\n",
      " [ 30.5]\n",
      " [ 21.2]\n",
      " [ 28.9]\n",
      " [ 39.9]\n",
      " [ 19.6]\n",
      " [ 37.8]\n",
      " [ 33.6]\n",
      " [ 26.7]\n",
      " [ 30.2]\n",
      " [ 37.6]\n",
      " [ 25.9]\n",
      " [ 20.8]\n",
      " [ 21.8]\n",
      " [ 35.3]\n",
      " [ 27.6]\n",
      " [ 24. ]\n",
      " [ 21.8]\n",
      " [ 27.8]\n",
      " [ 36.8]\n",
      " [ 30. ]\n",
      " [ 46.1]\n",
      " [ 41.3]\n",
      " [ 33.2]\n",
      " [ 38.8]\n",
      " [ 29.9]\n",
      " [ 28.9]\n",
      " [ 27.3]\n",
      " [ 33.7]\n",
      " [ 23.8]\n",
      " [ 25.9]\n",
      " [ 28. ]\n",
      " [ 35.5]\n",
      " [ 35.2]\n",
      " [ 27.8]\n",
      " [ 38.2]\n",
      " [ 44.2]\n",
      " [ 42.3]\n",
      " [ 40.7]\n",
      " [ 46.5]\n",
      " [ 25.6]\n",
      " [ 26.1]\n",
      " [ 36.8]\n",
      " [ 33.5]\n",
      " [ 32.8]\n",
      " [ 28.9]\n",
      " [  0. ]\n",
      " [ 26.6]\n",
      " [ 26. ]\n",
      " [ 30.1]\n",
      " [ 25.1]\n",
      " [ 29.3]\n",
      " [ 25.2]\n",
      " [ 37.2]\n",
      " [ 39. ]\n",
      " [ 33.3]\n",
      " [ 37.3]\n",
      " [ 33.3]\n",
      " [ 36.5]\n",
      " [ 28.6]\n",
      " [ 30.4]\n",
      " [ 25. ]\n",
      " [ 29.7]\n",
      " [ 22.1]\n",
      " [ 24.2]\n",
      " [ 27.3]\n",
      " [ 25.6]\n",
      " [ 31.6]\n",
      " [ 30.3]\n",
      " [ 37.6]\n",
      " [ 32.8]\n",
      " [ 19.6]\n",
      " [ 25. ]\n",
      " [ 33.2]\n",
      " [  0. ]\n",
      " [ 34.2]\n",
      " [ 31.6]\n",
      " [ 21.8]\n",
      " [ 18.2]\n",
      " [ 26.3]\n",
      " [ 30.8]\n",
      " [ 24.6]\n",
      " [ 29.8]\n",
      " [ 45.3]\n",
      " [ 41.3]\n",
      " [ 29.8]\n",
      " [ 33.3]\n",
      " [ 32.9]\n",
      " [ 29.6]\n",
      " [ 21.7]\n",
      " [ 36.3]\n",
      " [ 36.4]\n",
      " [ 39.4]\n",
      " [ 32.4]\n",
      " [ 34.9]\n",
      " [ 39.5]\n",
      " [ 32. ]\n",
      " [ 34.5]\n",
      " [ 43.6]\n",
      " [ 33.1]\n",
      " [ 32.8]\n",
      " [ 28.5]\n",
      " [ 27.4]\n",
      " [ 31.9]\n",
      " [ 27.8]\n",
      " [ 29.9]\n",
      " [ 36.9]\n",
      " [ 25.5]\n",
      " [ 38.1]\n",
      " [ 27.8]\n",
      " [ 46.2]\n",
      " [ 30.1]\n",
      " [ 33.8]\n",
      " [ 41.3]\n",
      " [ 37.6]\n",
      " [ 26.9]\n",
      " [ 32.4]\n",
      " [ 26.1]\n",
      " [ 38.6]\n",
      " [ 32. ]\n",
      " [ 31.3]\n",
      " [ 34.3]\n",
      " [ 32.5]\n",
      " [ 22.6]\n",
      " [ 29.5]\n",
      " [ 34.7]\n",
      " [ 30.1]\n",
      " [ 35.5]\n",
      " [ 24. ]\n",
      " [ 42.9]\n",
      " [ 27. ]\n",
      " [ 34.7]\n",
      " [ 42.1]\n",
      " [ 25. ]\n",
      " [ 26.5]\n",
      " [ 38.7]\n",
      " [ 28.7]\n",
      " [ 22.5]\n",
      " [ 34.9]\n",
      " [ 24.3]\n",
      " [ 33.3]\n",
      " [ 21.1]\n",
      " [ 46.8]\n",
      " [ 39.4]\n",
      " [ 34.4]\n",
      " [ 28.5]\n",
      " [ 33.6]\n",
      " [ 32. ]\n",
      " [ 45.3]\n",
      " [ 27.8]\n",
      " [ 36.8]\n",
      " [ 23.1]\n",
      " [ 27.1]\n",
      " [ 23.7]\n",
      " [ 27.8]\n",
      " [ 35.2]\n",
      " [ 28.4]\n",
      " [ 35.8]\n",
      " [ 40. ]\n",
      " [ 19.5]\n",
      " [ 41.5]\n",
      " [ 24. ]\n",
      " [ 30.9]\n",
      " [ 32.9]\n",
      " [ 38.2]\n",
      " [ 32.5]\n",
      " [ 36.1]\n",
      " [ 25.8]\n",
      " [ 28.7]\n",
      " [ 20.1]\n",
      " [ 28.2]\n",
      " [ 32.4]\n",
      " [ 38.4]\n",
      " [ 24.2]\n",
      " [ 40.8]\n",
      " [ 43.5]\n",
      " [ 30.8]\n",
      " [ 37.7]\n",
      " [ 24.7]\n",
      " [ 32.4]\n",
      " [ 34.6]\n",
      " [ 24.7]\n",
      " [ 27.4]\n",
      " [ 34.5]\n",
      " [ 26.2]\n",
      " [ 27.5]\n",
      " [ 25.9]\n",
      " [ 31.2]\n",
      " [ 28.8]\n",
      " [ 31.6]\n",
      " [ 40.9]\n",
      " [ 19.5]\n",
      " [ 29.3]\n",
      " [ 34.3]\n",
      " [ 29.5]\n",
      " [ 28. ]\n",
      " [ 27.6]\n",
      " [ 39.4]\n",
      " [ 23.4]\n",
      " [ 37.8]\n",
      " [ 28.3]\n",
      " [ 26.4]\n",
      " [ 25.2]\n",
      " [ 33.8]\n",
      " [ 34.1]\n",
      " [ 26.8]\n",
      " [ 34.2]\n",
      " [ 38.7]\n",
      " [ 21.8]\n",
      " [ 38.9]\n",
      " [ 39. ]\n",
      " [ 34.2]\n",
      " [ 27.7]\n",
      " [ 42.9]\n",
      " [ 37.6]\n",
      " [ 37.9]\n",
      " [ 33.7]\n",
      " [ 34.8]\n",
      " [ 32.5]\n",
      " [ 27.5]\n",
      " [ 34. ]\n",
      " [ 30.9]\n",
      " [ 33.6]\n",
      " [ 25.4]\n",
      " [ 35.5]\n",
      " [ 57.3]\n",
      " [ 35.6]\n",
      " [ 30.9]\n",
      " [ 24.8]\n",
      " [ 35.3]\n",
      " [ 36. ]\n",
      " [ 24.2]\n",
      " [ 24.2]\n",
      " [ 49.6]\n",
      " [ 44.6]\n",
      " [ 32.3]\n",
      " [  0. ]\n",
      " [ 33.2]\n",
      " [ 23.1]\n",
      " [ 28.3]\n",
      " [ 24.1]\n",
      " [ 46.1]\n",
      " [ 24.6]\n",
      " [ 42.3]\n",
      " [ 39.1]\n",
      " [ 38.5]\n",
      " [ 23.5]\n",
      " [ 30.4]\n",
      " [ 29.9]\n",
      " [ 25. ]\n",
      " [ 34.5]\n",
      " [ 44.5]\n",
      " [ 35.9]\n",
      " [ 27.6]\n",
      " [ 35. ]\n",
      " [ 38.5]\n",
      " [ 28.4]\n",
      " [ 39.8]\n",
      " [  0. ]\n",
      " [ 34.4]\n",
      " [ 32.8]\n",
      " [ 38. ]\n",
      " [ 31.2]\n",
      " [ 29.6]\n",
      " [ 41.2]\n",
      " [ 26.4]\n",
      " [ 29.5]\n",
      " [ 33.9]\n",
      " [ 33.8]\n",
      " [ 23.1]\n",
      " [ 35.5]\n",
      " [ 35.6]\n",
      " [ 29.3]\n",
      " [ 38.1]\n",
      " [ 29.3]\n",
      " [ 39.1]\n",
      " [ 32.8]\n",
      " [ 39.4]\n",
      " [ 36.1]\n",
      " [ 32.4]\n",
      " [ 22.9]\n",
      " [ 30.1]\n",
      " [ 28.4]\n",
      " [ 28.4]\n",
      " [ 44.5]\n",
      " [ 29. ]\n",
      " [ 23.3]\n",
      " [ 35.4]\n",
      " [ 27.4]\n",
      " [ 32. ]\n",
      " [ 36.6]\n",
      " [ 39.5]\n",
      " [ 42.3]\n",
      " [ 30.8]\n",
      " [ 28.5]\n",
      " [ 32.7]\n",
      " [ 40.6]\n",
      " [ 30. ]\n",
      " [ 49.3]\n",
      " [ 46.3]\n",
      " [ 36.4]\n",
      " [ 24.3]\n",
      " [ 31.2]\n",
      " [ 39. ]\n",
      " [ 26. ]\n",
      " [ 43.3]\n",
      " [ 32.4]\n",
      " [ 36.5]\n",
      " [ 32. ]\n",
      " [ 36.3]\n",
      " [ 37.5]\n",
      " [ 35.5]\n",
      " [ 28.4]\n",
      " [ 44. ]\n",
      " [ 22.5]\n",
      " [ 32.9]\n",
      " [ 36.8]\n",
      " [ 26.2]\n",
      " [ 30.1]\n",
      " [ 30.4]]\n"
     ]
    }
   ],
   "source": [
    "X1 = (np.asarray(df1.X)).reshape(-1, 1)\n",
    "print(X1)"
   ]
  },
  {
   "cell_type": "code",
   "execution_count": 32,
   "metadata": {},
   "outputs": [
    {
     "name": "stdout",
     "output_type": "stream",
     "text": [
      "[1 0 1 0 1 0 1 0 1 1 0 1 0 1 1 1 1 1 0 1 0 0 1 1 1 1 1 0 0 0 0 1 0 0 0 0 0\n",
      " 1 1 1 0 0 0 1 0 1 0 0 1 0 0 0 0 1 0 0 1 0 0 0 0 1 0 0 1 0 1 0 0 0 1 0 1 0\n",
      " 0 0 0 0 1 0 0 0 0 0 1 0 0 0 1 0 0 0 0 1 0 0 0 0 0 1 1 0 0 0 0 0 0 0 0 1 1\n",
      " 1 0 0 1 1 1 0 0 0 1 0 0 0 1 1 0 0 1 1 1 1 1 0 0 0 0 0 0 0 0 0 0 1 0 0 0 0\n",
      " 0 0 0 0 1 0 1 1 0 0 0 1 0 0 0 0 1 1 0 0 0 0 1 1 0 0 0 1 0 1 0 1 0 0 0 0 0\n",
      " 1 1 1 1 1 0 0 1 1 0 1 0 1 1 1 0 0 0 0 0 0 1 1 0 1 0 0 0 1 1 1 1 0 1 1 1 1\n",
      " 0 0 0 0 0 1 0 0 1 1 0 0 0 1 1 1 1 0 0 0 1 1 0 1 0 0 0 0 0 0 0 0 1 1 0 0 0\n",
      " 1 0 1 0 0 1 0 1 0 0 1 1 0 0 0 0 0 1 0 0 0 1 0 0 1 1 0 0 1 0 0 0 1 1 1 0 0\n",
      " 1 0 1 0 1 1 0 1 0 0 1 0 1 1 0 0 1 0 1 0 0 1 0 1 0 1 1 1 0 0 1 0 1 0 0 0 1\n",
      " 0 0 0 0 1 1 1 0 0 0 0 0 0 0 0 0 1 0 0 0 0 0 1 1 1 0 1 1 0 0 1 0 0 1 0 0 1\n",
      " 1 0 0 0 0 1 0 0 1 0 0 0 0 0 0 0 1 1 1 0 0 1 0 0 1 0 0 1 0 1 1 0 1 0 1 0 1\n",
      " 0 1 1 0 0 0 0 1 1 0 1 0 1 0 0 0 0 1 1 0 1 0 1 0 0 0 0 0 1 0 0 0 0 1 0 0 1\n",
      " 1 1 0 0 1 0 0 1 0 0 0 1 0 0 1 0 0 0 0 0 0 0 0 0 1 0 0 0 0 0 0 0 1 0 0 0 1\n",
      " 0 0 0 1 1 0 0 0 0 0 0 0 1 0 0 0 0 1 0 0 0 1 0 0 0 1 0 0 0 1 0 0 0 0 1 1 0\n",
      " 0 0 0 0 0 1 0 0 0 0 0 0 0 0 0 0 0 1 0 0 0 1 1 1 1 0 0 1 1 0 0 0 0 0 0 0 0\n",
      " 0 0 0 0 0 1 1 0 0 0 0 0 0 0 1 0 0 0 0 0 0 0 1 0 1 1 0 0 0 1 0 1 0 1 0 1 0\n",
      " 1 0 0 1 0 0 1 0 0 0 0 1 1 0 1 0 0 0 0 1 1 0 1 0 0 0 1 1 0 0 0 0 0 0 0 0 0\n",
      " 0 1 0 0 0 0 1 0 0 1 0 0 0 1 0 0 0 1 1 1 0 0 0 0 0 0 1 0 0 0 1 0 1 1 1 1 0\n",
      " 1 1 0 0 0 0 0 0 0 1 1 0 1 0 0 1 0 1 0 0 0 0 0 1 0 1 0 1 0 1 1 0 0 0 0 1 1\n",
      " 0 0 0 1 0 1 1 0 0 1 0 0 1 1 0 0 1 0 0 1 0 0 0 0 0 0 0 1 1 1 0 0 0 0 0 0 1\n",
      " 1 0 0 1 0 0 1 0 1 1 1 0 0 1 1 1 0 1 0 1 0 1 0 0 0 0 1 0]\n"
     ]
    }
   ],
   "source": [
    "Y1 = (np.asarray(df1.Y)).ravel()\n",
    "print(Y1)"
   ]
  },
  {
   "cell_type": "code",
   "execution_count": 47,
   "metadata": {},
   "outputs": [
    {
     "data": {
      "text/plain": [
       "LogisticRegression(C=1.0, class_weight=None, dual=False, fit_intercept=True,\n",
       "          intercept_scaling=1, max_iter=100, multi_class='ovr', n_jobs=1,\n",
       "          penalty='l2', random_state=None, solver='liblinear', tol=0.0001,\n",
       "          verbose=0, warm_start=False)"
      ]
     },
     "execution_count": 47,
     "metadata": {},
     "output_type": "execute_result"
    }
   ],
   "source": [
    "logistic_model.fit(X1, Y1)"
   ]
  },
  {
   "cell_type": "code",
   "execution_count": 48,
   "metadata": {},
   "outputs": [
    {
     "data": {
      "text/plain": [
       "0.66927083333333337"
      ]
     },
     "execution_count": 48,
     "metadata": {},
     "output_type": "execute_result"
    }
   ],
   "source": [
    "logistic_model.score(X1, Y1)"
   ]
  },
  {
   "cell_type": "code",
   "execution_count": 50,
   "metadata": {},
   "outputs": [
    {
     "name": "stdout",
     "output_type": "stream",
     "text": [
      "系数： [[ 0.07866491]]\n",
      "截距： [-3.17263841]\n",
      "R²值: 0.669270833333\n"
     ]
    }
   ],
   "source": [
    "print(\"系数：\", logistic_model.coef_)\n",
    "print(\"截距：\", logistic_model.intercept_)\n",
    "print(\"R²值:\", logistic_model.score(X1, Y1))"
   ]
  },
  {
   "cell_type": "markdown",
   "metadata": {},
   "source": [
    "### 3 Decision Trees 决策树 "
   ]
  },
  {
   "cell_type": "code",
   "execution_count": 51,
   "metadata": {},
   "outputs": [],
   "source": [
    "iris_df = pd.read_csv(\"data/iris_df.csv\", header=None)"
   ]
  },
  {
   "cell_type": "code",
   "execution_count": 52,
   "metadata": {},
   "outputs": [
    {
     "name": "stdout",
     "output_type": "stream",
     "text": [
      "     0    1    2    3            4\n",
      "0  5.1  3.5  1.4  0.2  Iris-setosa\n",
      "1  4.9  3.0  1.4  0.2  Iris-setosa\n",
      "2  4.7  3.2  1.3  0.2  Iris-setosa\n",
      "3  4.6  3.1  1.5  0.2  Iris-setosa\n",
      "4  5.0  3.6  1.4  0.2  Iris-setosa\n"
     ]
    }
   ],
   "source": [
    "print(iris_df.head())"
   ]
  },
  {
   "cell_type": "code",
   "execution_count": 53,
   "metadata": {},
   "outputs": [],
   "source": [
    "iris_df.columns = [\"X1\", \"X2\", \"X3\", \"X4\", \"Y\"]"
   ]
  },
  {
   "cell_type": "code",
   "execution_count": 54,
   "metadata": {},
   "outputs": [
    {
     "name": "stdout",
     "output_type": "stream",
     "text": [
      "    X1   X2   X3   X4            Y\n",
      "0  5.1  3.5  1.4  0.2  Iris-setosa\n",
      "1  4.9  3.0  1.4  0.2  Iris-setosa\n",
      "2  4.7  3.2  1.3  0.2  Iris-setosa\n",
      "3  4.6  3.1  1.5  0.2  Iris-setosa\n",
      "4  5.0  3.6  1.4  0.2  Iris-setosa\n"
     ]
    }
   ],
   "source": [
    "print(iris_df.head())"
   ]
  },
  {
   "cell_type": "code",
   "execution_count": 55,
   "metadata": {},
   "outputs": [],
   "source": [
    "from sklearn.model_selection import train_test_split\n",
    "from sklearn.tree import DecisionTreeClassifier"
   ]
  },
  {
   "cell_type": "code",
   "execution_count": 56,
   "metadata": {},
   "outputs": [],
   "source": [
    "X = iris_df.values[:,0:4]\n",
    "Y = iris_df.values[:,4]"
   ]
  },
  {
   "cell_type": "code",
   "execution_count": 57,
   "metadata": {},
   "outputs": [
    {
     "name": "stdout",
     "output_type": "stream",
     "text": [
      "[[5.1 3.5 1.4 0.2]\n",
      " [4.9 3.0 1.4 0.2]\n",
      " [4.7 3.2 1.3 0.2]\n",
      " [4.6 3.1 1.5 0.2]\n",
      " [5.0 3.6 1.4 0.2]\n",
      " [5.4 3.9 1.7 0.4]\n",
      " [4.6 3.4 1.4 0.3]\n",
      " [5.0 3.4 1.5 0.2]\n",
      " [4.4 2.9 1.4 0.2]\n",
      " [4.9 3.1 1.5 0.1]\n",
      " [5.4 3.7 1.5 0.2]\n",
      " [4.8 3.4 1.6 0.2]\n",
      " [4.8 3.0 1.4 0.1]\n",
      " [4.3 3.0 1.1 0.1]\n",
      " [5.8 4.0 1.2 0.2]\n",
      " [5.7 4.4 1.5 0.4]\n",
      " [5.4 3.9 1.3 0.4]\n",
      " [5.1 3.5 1.4 0.3]\n",
      " [5.7 3.8 1.7 0.3]\n",
      " [5.1 3.8 1.5 0.3]\n",
      " [5.4 3.4 1.7 0.2]\n",
      " [5.1 3.7 1.5 0.4]\n",
      " [4.6 3.6 1.0 0.2]\n",
      " [5.1 3.3 1.7 0.5]\n",
      " [4.8 3.4 1.9 0.2]\n",
      " [5.0 3.0 1.6 0.2]\n",
      " [5.0 3.4 1.6 0.4]\n",
      " [5.2 3.5 1.5 0.2]\n",
      " [5.2 3.4 1.4 0.2]\n",
      " [4.7 3.2 1.6 0.2]\n",
      " [4.8 3.1 1.6 0.2]\n",
      " [5.4 3.4 1.5 0.4]\n",
      " [5.2 4.1 1.5 0.1]\n",
      " [5.5 4.2 1.4 0.2]\n",
      " [4.9 3.1 1.5 0.1]\n",
      " [5.0 3.2 1.2 0.2]\n",
      " [5.5 3.5 1.3 0.2]\n",
      " [4.9 3.1 1.5 0.1]\n",
      " [4.4 3.0 1.3 0.2]\n",
      " [5.1 3.4 1.5 0.2]\n",
      " [5.0 3.5 1.3 0.3]\n",
      " [4.5 2.3 1.3 0.3]\n",
      " [4.4 3.2 1.3 0.2]\n",
      " [5.0 3.5 1.6 0.6]\n",
      " [5.1 3.8 1.9 0.4]\n",
      " [4.8 3.0 1.4 0.3]\n",
      " [5.1 3.8 1.6 0.2]\n",
      " [4.6 3.2 1.4 0.2]\n",
      " [5.3 3.7 1.5 0.2]\n",
      " [5.0 3.3 1.4 0.2]\n",
      " [7.0 3.2 4.7 1.4]\n",
      " [6.4 3.2 4.5 1.5]\n",
      " [6.9 3.1 4.9 1.5]\n",
      " [5.5 2.3 4.0 1.3]\n",
      " [6.5 2.8 4.6 1.5]\n",
      " [5.7 2.8 4.5 1.3]\n",
      " [6.3 3.3 4.7 1.6]\n",
      " [4.9 2.4 3.3 1.0]\n",
      " [6.6 2.9 4.6 1.3]\n",
      " [5.2 2.7 3.9 1.4]\n",
      " [5.0 2.0 3.5 1.0]\n",
      " [5.9 3.0 4.2 1.5]\n",
      " [6.0 2.2 4.0 1.0]\n",
      " [6.1 2.9 4.7 1.4]\n",
      " [5.6 2.9 3.6 1.3]\n",
      " [6.7 3.1 4.4 1.4]\n",
      " [5.6 3.0 4.5 1.5]\n",
      " [5.8 2.7 4.1 1.0]\n",
      " [6.2 2.2 4.5 1.5]\n",
      " [5.6 2.5 3.9 1.1]\n",
      " [5.9 3.2 4.8 1.8]\n",
      " [6.1 2.8 4.0 1.3]\n",
      " [6.3 2.5 4.9 1.5]\n",
      " [6.1 2.8 4.7 1.2]\n",
      " [6.4 2.9 4.3 1.3]\n",
      " [6.6 3.0 4.4 1.4]\n",
      " [6.8 2.8 4.8 1.4]\n",
      " [6.7 3.0 5.0 1.7]\n",
      " [6.0 2.9 4.5 1.5]\n",
      " [5.7 2.6 3.5 1.0]\n",
      " [5.5 2.4 3.8 1.1]\n",
      " [5.5 2.4 3.7 1.0]\n",
      " [5.8 2.7 3.9 1.2]\n",
      " [6.0 2.7 5.1 1.6]\n",
      " [5.4 3.0 4.5 1.5]\n",
      " [6.0 3.4 4.5 1.6]\n",
      " [6.7 3.1 4.7 1.5]\n",
      " [6.3 2.3 4.4 1.3]\n",
      " [5.6 3.0 4.1 1.3]\n",
      " [5.5 2.5 4.0 1.3]\n",
      " [5.5 2.6 4.4 1.2]\n",
      " [6.1 3.0 4.6 1.4]\n",
      " [5.8 2.6 4.0 1.2]\n",
      " [5.0 2.3 3.3 1.0]\n",
      " [5.6 2.7 4.2 1.3]\n",
      " [5.7 3.0 4.2 1.2]\n",
      " [5.7 2.9 4.2 1.3]\n",
      " [6.2 2.9 4.3 1.3]\n",
      " [5.1 2.5 3.0 1.1]\n",
      " [5.7 2.8 4.1 1.3]\n",
      " [6.3 3.3 6.0 2.5]\n",
      " [5.8 2.7 5.1 1.9]\n",
      " [7.1 3.0 5.9 2.1]\n",
      " [6.3 2.9 5.6 1.8]\n",
      " [6.5 3.0 5.8 2.2]\n",
      " [7.6 3.0 6.6 2.1]\n",
      " [4.9 2.5 4.5 1.7]\n",
      " [7.3 2.9 6.3 1.8]\n",
      " [6.7 2.5 5.8 1.8]\n",
      " [7.2 3.6 6.1 2.5]\n",
      " [6.5 3.2 5.1 2.0]\n",
      " [6.4 2.7 5.3 1.9]\n",
      " [6.8 3.0 5.5 2.1]\n",
      " [5.7 2.5 5.0 2.0]\n",
      " [5.8 2.8 5.1 2.4]\n",
      " [6.4 3.2 5.3 2.3]\n",
      " [6.5 3.0 5.5 1.8]\n",
      " [7.7 3.8 6.7 2.2]\n",
      " [7.7 2.6 6.9 2.3]\n",
      " [6.0 2.2 5.0 1.5]\n",
      " [6.9 3.2 5.7 2.3]\n",
      " [5.6 2.8 4.9 2.0]\n",
      " [7.7 2.8 6.7 2.0]\n",
      " [6.3 2.7 4.9 1.8]\n",
      " [6.7 3.3 5.7 2.1]\n",
      " [7.2 3.2 6.0 1.8]\n",
      " [6.2 2.8 4.8 1.8]\n",
      " [6.1 3.0 4.9 1.8]\n",
      " [6.4 2.8 5.6 2.1]\n",
      " [7.2 3.0 5.8 1.6]\n",
      " [7.4 2.8 6.1 1.9]\n",
      " [7.9 3.8 6.4 2.0]\n",
      " [6.4 2.8 5.6 2.2]\n",
      " [6.3 2.8 5.1 1.5]\n",
      " [6.1 2.6 5.6 1.4]\n",
      " [7.7 3.0 6.1 2.3]\n",
      " [6.3 3.4 5.6 2.4]\n",
      " [6.4 3.1 5.5 1.8]\n",
      " [6.0 3.0 4.8 1.8]\n",
      " [6.9 3.1 5.4 2.1]\n",
      " [6.7 3.1 5.6 2.4]\n",
      " [6.9 3.1 5.1 2.3]\n",
      " [5.8 2.7 5.1 1.9]\n",
      " [6.8 3.2 5.9 2.3]\n",
      " [6.7 3.3 5.7 2.5]\n",
      " [6.7 3.0 5.2 2.3]\n",
      " [6.3 2.5 5.0 1.9]\n",
      " [6.5 3.0 5.2 2.0]\n",
      " [6.2 3.4 5.4 2.3]\n",
      " [5.9 3.0 5.1 1.8]]\n"
     ]
    }
   ],
   "source": [
    "print(X)"
   ]
  },
  {
   "cell_type": "code",
   "execution_count": 58,
   "metadata": {},
   "outputs": [
    {
     "name": "stdout",
     "output_type": "stream",
     "text": [
      "['Iris-setosa' 'Iris-setosa' 'Iris-setosa' 'Iris-setosa' 'Iris-setosa'\n",
      " 'Iris-setosa' 'Iris-setosa' 'Iris-setosa' 'Iris-setosa' 'Iris-setosa'\n",
      " 'Iris-setosa' 'Iris-setosa' 'Iris-setosa' 'Iris-setosa' 'Iris-setosa'\n",
      " 'Iris-setosa' 'Iris-setosa' 'Iris-setosa' 'Iris-setosa' 'Iris-setosa'\n",
      " 'Iris-setosa' 'Iris-setosa' 'Iris-setosa' 'Iris-setosa' 'Iris-setosa'\n",
      " 'Iris-setosa' 'Iris-setosa' 'Iris-setosa' 'Iris-setosa' 'Iris-setosa'\n",
      " 'Iris-setosa' 'Iris-setosa' 'Iris-setosa' 'Iris-setosa' 'Iris-setosa'\n",
      " 'Iris-setosa' 'Iris-setosa' 'Iris-setosa' 'Iris-setosa' 'Iris-setosa'\n",
      " 'Iris-setosa' 'Iris-setosa' 'Iris-setosa' 'Iris-setosa' 'Iris-setosa'\n",
      " 'Iris-setosa' 'Iris-setosa' 'Iris-setosa' 'Iris-setosa' 'Iris-setosa'\n",
      " 'Iris-versicolor' 'Iris-versicolor' 'Iris-versicolor' 'Iris-versicolor'\n",
      " 'Iris-versicolor' 'Iris-versicolor' 'Iris-versicolor' 'Iris-versicolor'\n",
      " 'Iris-versicolor' 'Iris-versicolor' 'Iris-versicolor' 'Iris-versicolor'\n",
      " 'Iris-versicolor' 'Iris-versicolor' 'Iris-versicolor' 'Iris-versicolor'\n",
      " 'Iris-versicolor' 'Iris-versicolor' 'Iris-versicolor' 'Iris-versicolor'\n",
      " 'Iris-versicolor' 'Iris-versicolor' 'Iris-versicolor' 'Iris-versicolor'\n",
      " 'Iris-versicolor' 'Iris-versicolor' 'Iris-versicolor' 'Iris-versicolor'\n",
      " 'Iris-versicolor' 'Iris-versicolor' 'Iris-versicolor' 'Iris-versicolor'\n",
      " 'Iris-versicolor' 'Iris-versicolor' 'Iris-versicolor' 'Iris-versicolor'\n",
      " 'Iris-versicolor' 'Iris-versicolor' 'Iris-versicolor' 'Iris-versicolor'\n",
      " 'Iris-versicolor' 'Iris-versicolor' 'Iris-versicolor' 'Iris-versicolor'\n",
      " 'Iris-versicolor' 'Iris-versicolor' 'Iris-versicolor' 'Iris-versicolor'\n",
      " 'Iris-versicolor' 'Iris-versicolor' 'Iris-virginica' 'Iris-virginica'\n",
      " 'Iris-virginica' 'Iris-virginica' 'Iris-virginica' 'Iris-virginica'\n",
      " 'Iris-virginica' 'Iris-virginica' 'Iris-virginica' 'Iris-virginica'\n",
      " 'Iris-virginica' 'Iris-virginica' 'Iris-virginica' 'Iris-virginica'\n",
      " 'Iris-virginica' 'Iris-virginica' 'Iris-virginica' 'Iris-virginica'\n",
      " 'Iris-virginica' 'Iris-virginica' 'Iris-virginica' 'Iris-virginica'\n",
      " 'Iris-virginica' 'Iris-virginica' 'Iris-virginica' 'Iris-virginica'\n",
      " 'Iris-virginica' 'Iris-virginica' 'Iris-virginica' 'Iris-virginica'\n",
      " 'Iris-virginica' 'Iris-virginica' 'Iris-virginica' 'Iris-virginica'\n",
      " 'Iris-virginica' 'Iris-virginica' 'Iris-virginica' 'Iris-virginica'\n",
      " 'Iris-virginica' 'Iris-virginica' 'Iris-virginica' 'Iris-virginica'\n",
      " 'Iris-virginica' 'Iris-virginica' 'Iris-virginica' 'Iris-virginica'\n",
      " 'Iris-virginica' 'Iris-virginica' 'Iris-virginica' 'Iris-virginica']\n"
     ]
    }
   ],
   "source": [
    "print(Y)"
   ]
  },
  {
   "cell_type": "code",
   "execution_count": 59,
   "metadata": {},
   "outputs": [],
   "source": [
    "train_X, test_X, train_y, test_y = train_test_split(X, Y, test_size=0.3)"
   ]
  },
  {
   "cell_type": "code",
   "execution_count": 60,
   "metadata": {},
   "outputs": [
    {
     "data": {
      "text/plain": [
       "DecisionTreeClassifier(class_weight=None, criterion='gini', max_depth=None,\n",
       "            max_features=None, max_leaf_nodes=None,\n",
       "            min_impurity_decrease=0.0, min_impurity_split=None,\n",
       "            min_samples_leaf=1, min_samples_split=2,\n",
       "            min_weight_fraction_leaf=0.0, presort=False, random_state=None,\n",
       "            splitter='best')"
      ]
     },
     "execution_count": 60,
     "metadata": {},
     "output_type": "execute_result"
    }
   ],
   "source": [
    "decision_tree_model = DecisionTreeClassifier()\n",
    "decision_tree_model.fit(train_X, train_y)"
   ]
  },
  {
   "cell_type": "code",
   "execution_count": 65,
   "metadata": {},
   "outputs": [
    {
     "name": "stdout",
     "output_type": "stream",
     "text": [
      "Accuracy: \n",
      " 0.911111111111\n"
     ]
    }
   ],
   "source": [
    "print(\"Accuracy: \\n\", decision_tree_model.score(test_X, test_y))"
   ]
  },
  {
   "cell_type": "markdown",
   "metadata": {},
   "source": [
    "### 4 Support Vector Machines 支持向量机"
   ]
  },
  {
   "cell_type": "code",
   "execution_count": 66,
   "metadata": {},
   "outputs": [],
   "source": [
    "iris_df1 = pd.read_csv(\"data/iris_df.csv\", header=None)"
   ]
  },
  {
   "cell_type": "code",
   "execution_count": 67,
   "metadata": {},
   "outputs": [
    {
     "name": "stdout",
     "output_type": "stream",
     "text": [
      "     0    1    2    3            4\n",
      "0  5.1  3.5  1.4  0.2  Iris-setosa\n",
      "1  4.9  3.0  1.4  0.2  Iris-setosa\n",
      "2  4.7  3.2  1.3  0.2  Iris-setosa\n",
      "3  4.6  3.1  1.5  0.2  Iris-setosa\n",
      "4  5.0  3.6  1.4  0.2  Iris-setosa\n"
     ]
    }
   ],
   "source": [
    "print(iris_df1.head())"
   ]
  },
  {
   "cell_type": "code",
   "execution_count": 68,
   "metadata": {},
   "outputs": [],
   "source": [
    "iris_df1.columns = [\"X1\", \"X2\", \"X3\", \"X4\", \"Y\"]\n",
    "iris_df2 = iris_df1.drop([\"X1\", \"X2\"], 1)"
   ]
  },
  {
   "cell_type": "code",
   "execution_count": 69,
   "metadata": {},
   "outputs": [
    {
     "name": "stdout",
     "output_type": "stream",
     "text": [
      "      X3   X4               Y\n",
      "0    1.4  0.2     Iris-setosa\n",
      "1    1.4  0.2     Iris-setosa\n",
      "2    1.3  0.2     Iris-setosa\n",
      "3    1.5  0.2     Iris-setosa\n",
      "4    1.4  0.2     Iris-setosa\n",
      "5    1.7  0.4     Iris-setosa\n",
      "6    1.4  0.3     Iris-setosa\n",
      "7    1.5  0.2     Iris-setosa\n",
      "8    1.4  0.2     Iris-setosa\n",
      "9    1.5  0.1     Iris-setosa\n",
      "10   1.5  0.2     Iris-setosa\n",
      "11   1.6  0.2     Iris-setosa\n",
      "12   1.4  0.1     Iris-setosa\n",
      "13   1.1  0.1     Iris-setosa\n",
      "14   1.2  0.2     Iris-setosa\n",
      "15   1.5  0.4     Iris-setosa\n",
      "16   1.3  0.4     Iris-setosa\n",
      "17   1.4  0.3     Iris-setosa\n",
      "18   1.7  0.3     Iris-setosa\n",
      "19   1.5  0.3     Iris-setosa\n",
      "20   1.7  0.2     Iris-setosa\n",
      "21   1.5  0.4     Iris-setosa\n",
      "22   1.0  0.2     Iris-setosa\n",
      "23   1.7  0.5     Iris-setosa\n",
      "24   1.9  0.2     Iris-setosa\n",
      "25   1.6  0.2     Iris-setosa\n",
      "26   1.6  0.4     Iris-setosa\n",
      "27   1.5  0.2     Iris-setosa\n",
      "28   1.4  0.2     Iris-setosa\n",
      "29   1.6  0.2     Iris-setosa\n",
      "..   ...  ...             ...\n",
      "120  5.7  2.3  Iris-virginica\n",
      "121  4.9  2.0  Iris-virginica\n",
      "122  6.7  2.0  Iris-virginica\n",
      "123  4.9  1.8  Iris-virginica\n",
      "124  5.7  2.1  Iris-virginica\n",
      "125  6.0  1.8  Iris-virginica\n",
      "126  4.8  1.8  Iris-virginica\n",
      "127  4.9  1.8  Iris-virginica\n",
      "128  5.6  2.1  Iris-virginica\n",
      "129  5.8  1.6  Iris-virginica\n",
      "130  6.1  1.9  Iris-virginica\n",
      "131  6.4  2.0  Iris-virginica\n",
      "132  5.6  2.2  Iris-virginica\n",
      "133  5.1  1.5  Iris-virginica\n",
      "134  5.6  1.4  Iris-virginica\n",
      "135  6.1  2.3  Iris-virginica\n",
      "136  5.6  2.4  Iris-virginica\n",
      "137  5.5  1.8  Iris-virginica\n",
      "138  4.8  1.8  Iris-virginica\n",
      "139  5.4  2.1  Iris-virginica\n",
      "140  5.6  2.4  Iris-virginica\n",
      "141  5.1  2.3  Iris-virginica\n",
      "142  5.1  1.9  Iris-virginica\n",
      "143  5.9  2.3  Iris-virginica\n",
      "144  5.7  2.5  Iris-virginica\n",
      "145  5.2  2.3  Iris-virginica\n",
      "146  5.0  1.9  Iris-virginica\n",
      "147  5.2  2.0  Iris-virginica\n",
      "148  5.4  2.3  Iris-virginica\n",
      "149  5.1  1.8  Iris-virginica\n",
      "\n",
      "[150 rows x 3 columns]\n"
     ]
    }
   ],
   "source": [
    "print(iris_df2)"
   ]
  },
  {
   "cell_type": "code",
   "execution_count": 70,
   "metadata": {},
   "outputs": [],
   "source": [
    "from sklearn.model_selection import train_test_split\n",
    "from sklearn.svm import SVC"
   ]
  },
  {
   "cell_type": "code",
   "execution_count": 71,
   "metadata": {},
   "outputs": [],
   "source": [
    "X = iris_df2.values[:, 0:2]\n",
    "Y = iris_df2.values[:, 2]"
   ]
  },
  {
   "cell_type": "code",
   "execution_count": 72,
   "metadata": {},
   "outputs": [],
   "source": [
    "trainX, testX, trainY, testY = train_test_split(X, Y, test_size = 0.3)"
   ]
  },
  {
   "cell_type": "code",
   "execution_count": 73,
   "metadata": {},
   "outputs": [],
   "source": [
    "svc_model = SVC()"
   ]
  },
  {
   "cell_type": "code",
   "execution_count": 74,
   "metadata": {},
   "outputs": [
    {
     "data": {
      "text/plain": [
       "SVC(C=1.0, cache_size=200, class_weight=None, coef0=0.0,\n",
       "  decision_function_shape='ovr', degree=3, gamma='auto', kernel='rbf',\n",
       "  max_iter=-1, probability=False, random_state=None, shrinking=True,\n",
       "  tol=0.001, verbose=False)"
      ]
     },
     "execution_count": 74,
     "metadata": {},
     "output_type": "execute_result"
    }
   ],
   "source": [
    "svc_model.fit(trainX, trainY)"
   ]
  },
  {
   "cell_type": "code",
   "execution_count": null,
   "metadata": {},
   "outputs": [],
   "source": [
    "print(\"Accuracy: \\n\", svc_model.score(testX, testY))\n",
    "pred = svc_model.predict(testX)\n"
   ]
  }
 ],
 "metadata": {
  "kernelspec": {
   "display_name": "Python 3",
   "language": "python",
   "name": "python3"
  },
  "language_info": {
   "codemirror_mode": {
    "name": "ipython",
    "version": 3
   },
   "file_extension": ".py",
   "mimetype": "text/x-python",
   "name": "python",
   "nbconvert_exporter": "python",
   "pygments_lexer": "ipython3",
   "version": "3.6.3"
  }
 },
 "nbformat": 4,
 "nbformat_minor": 2
}
