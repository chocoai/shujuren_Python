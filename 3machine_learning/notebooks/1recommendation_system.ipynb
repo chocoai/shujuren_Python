{
 "cells": [
  {
   "cell_type": "code",
   "execution_count": 1,
   "metadata": {},
   "outputs": [],
   "source": [
    "from scipy.sparse import dok_matrix\n",
    "from sklearn.metrics.pairwise import pairwise_distances\n",
    "import numpy as np "
   ]
  },
  {
   "cell_type": "code",
   "execution_count": 2,
   "metadata": {},
   "outputs": [],
   "source": [
    "np.random.seed(1000)"
   ]
  },
  {
   "cell_type": "code",
   "execution_count": 3,
   "metadata": {},
   "outputs": [],
   "source": [
    "nb_users = 1000\n",
    "nb_products = 2500\n",
    "max_rating = 5\n",
    "max_rated_products = 500"
   ]
  },
  {
   "cell_type": "code",
   "execution_count": 4,
   "metadata": {},
   "outputs": [],
   "source": [
    "X_preferences = dok_matrix((nb_users, nb_products), dtype=np.uint8)\n",
    "\n",
    "for i in range(nb_users):\n",
    "    # Extract n random products\n",
    "    n_products = np.random.randint(0, max_rated_products+1)\n",
    "    products = np.random.randint(0, nb_products, size=n_products)\n",
    "    \n",
    "    # Populate preference sparse matrix\n",
    "    for p in products:\n",
    "        X_preferences[i, p] = np.random.randint(0, max_rating+1)"
   ]
  },
  {
   "cell_type": "code",
   "execution_count": 5,
   "metadata": {},
   "outputs": [],
   "source": [
    "# Compute pairwise distances\n",
    "distance_matrix = pairwise_distances(X_preferences, metric='euclidean')\n",
    "\n",
    "# Sort distances\n",
    "sorted_distances = np.argsort(distance_matrix, axis=1)"
   ]
  },
  {
   "cell_type": "code",
   "execution_count": 6,
   "metadata": {},
   "outputs": [
    {
     "name": "stdout",
     "output_type": "stream",
     "text": [
      "368\n",
      "907\n",
      "268\n",
      "924\n",
      "588\n",
      "191\n",
      "688\n",
      "849\n",
      "95\n",
      "558\n"
     ]
    }
   ],
   "source": [
    "test_user=500\n",
    "\n",
    "# Take the top-10 simular users\n",
    "for d in sorted_distances[test_user][::-1][0:10]:\n",
    "    print(d)"
   ]
  },
  {
   "cell_type": "markdown",
   "metadata": {},
   "source": [
    "### 参考资料\n",
    "\n",
    "1[**协作式推荐**]( https://www.bonaccorso.eu/2017/09/13/a-model-free-collaborative-recommendation-system-in-20-lines-of-python/)"
   ]
  },
  {
   "cell_type": "code",
   "execution_count": null,
   "metadata": {},
   "outputs": [],
   "source": []
  }
 ],
 "metadata": {
  "kernelspec": {
   "display_name": "Python 3",
   "language": "python",
   "name": "python3"
  },
  "language_info": {
   "codemirror_mode": {
    "name": "ipython",
    "version": 3
   },
   "file_extension": ".py",
   "mimetype": "text/x-python",
   "name": "python",
   "nbconvert_exporter": "python",
   "pygments_lexer": "ipython3",
   "version": "3.6.3"
  }
 },
 "nbformat": 4,
 "nbformat_minor": 2
}
