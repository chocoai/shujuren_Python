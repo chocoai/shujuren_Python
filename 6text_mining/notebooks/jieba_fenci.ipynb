{
 "cells": [
  {
   "cell_type": "code",
   "execution_count": 1,
   "metadata": {},
   "outputs": [],
   "source": [
    "import jieba"
   ]
  },
  {
   "cell_type": "code",
   "execution_count": 2,
   "metadata": {},
   "outputs": [
    {
     "name": "stderr",
     "output_type": "stream",
     "text": [
      "Building prefix dict from the default dictionary ...\n",
      "Loading model from cache C:\\Users\\ADMINI~1\\AppData\\Local\\Temp\\jieba.cache\n",
      "Loading model cost 0.751 seconds.\n",
      "Prefix dict has been built succesfully.\n"
     ]
    },
    {
     "name": "stdout",
     "output_type": "stream",
     "text": [
      "Full Mode: 购物/ 购物中心/ 中心/ 和/ 品牌/ 连接\n"
     ]
    }
   ],
   "source": [
    "seg_list1 = jieba.cut(\"购物中心和品牌连接\", cut_all=True, HMM=False)\n",
    "print(\"Full Mode: \" + \"/ \".join(seg_list1))  # 全模式"
   ]
  },
  {
   "cell_type": "code",
   "execution_count": 3,
   "metadata": {},
   "outputs": [
    {
     "name": "stdout",
     "output_type": "stream",
     "text": [
      "Default Mode: 购物中心/ 和/ 品牌/ 连接\n"
     ]
    }
   ],
   "source": [
    "seg_list2 = jieba.cut(\"购物中心和品牌连接\", cut_all=False, HMM=True)\n",
    "print(\"Default Mode: \" + \"/ \".join(seg_list2))  # 默认模式"
   ]
  },
  {
   "cell_type": "code",
   "execution_count": 4,
   "metadata": {},
   "outputs": [
    {
     "name": "stdout",
     "output_type": "stream",
     "text": [
      "购物, 中心, 购物中心, 和, 品牌, 连接\n"
     ]
    }
   ],
   "source": [
    "seg_list3 = jieba.cut_for_search(\"购物中心和品牌连接\", HMM=False)  # 搜索引擎模式\n",
    "print(\", \".join(seg_list3))"
   ]
  },
  {
   "cell_type": "code",
   "execution_count": 5,
   "metadata": {},
   "outputs": [],
   "source": [
    "from os import path\n",
    "import jieba.analyse as analyse"
   ]
  },
  {
   "cell_type": "code",
   "execution_count": 14,
   "metadata": {},
   "outputs": [],
   "source": [
    "text_path = 'F:/repository/shujuren_Python/6text_mining/notebooks/data/text_data1.txt'"
   ]
  },
  {
   "cell_type": "code",
   "execution_count": 16,
   "metadata": {},
   "outputs": [],
   "source": [
    "text = open(text_path, encoding='utf-8').read()"
   ]
  },
  {
   "cell_type": "code",
   "execution_count": 17,
   "metadata": {},
   "outputs": [
    {
     "name": "stdout",
     "output_type": "stream",
     "text": [
      "很多开发商在项目盈利模式与产品形态规划上不统一，项目本来打算出售的却规划成了不适合销售的大面积、集中式商业产品形态，本来是要自己持有经营的却规划成了不适合引进大型品牌主力商家使用的产品形态。\n"
     ]
    }
   ],
   "source": [
    "print(text)"
   ]
  },
  {
   "cell_type": "code",
   "execution_count": 19,
   "metadata": {},
   "outputs": [
    {
     "name": "stdout",
     "output_type": "stream",
     "text": [
      "规划\n",
      "形态\n",
      "产品\n",
      "适合\n",
      "集中式\n",
      "本来\n",
      "项目\n",
      "盈利模式\n",
      "商家\n",
      "大面积\n",
      "引进\n",
      "开发商\n",
      "出售\n",
      "打算\n",
      "品牌\n",
      "商业\n",
      "主力\n",
      "大型\n",
      "持有\n",
      "统一\n"
     ]
    }
   ],
   "source": [
    "for key in analyse.extract_tags(text,20, withWeight=False):\n",
    "    print(key)"
   ]
  },
  {
   "cell_type": "code",
   "execution_count": 20,
   "metadata": {},
   "outputs": [],
   "source": [
    "#分词结果去掉停用词\n",
    "import sys\n",
    "import jieba\n",
    "from os import path\n",
    "\n",
    "stopwords_path = 'data/stop_words.txt' # 停用词词表\n",
    "\n",
    "text_path1 = 'F:/repository/shujuren_Python/6text_mining/notebooks/data/text_data1.txt' #设置要分析的文本路径\n",
    "text1 = open(text_path, encoding = 'utf-8').read()\n"
   ]
  },
  {
   "cell_type": "code",
   "execution_count": 21,
   "metadata": {},
   "outputs": [],
   "source": [
    "def jiebaclearText(text):\n",
    "    mywordlist = []\n",
    "    seg_list = jieba.cut(text, cut_all=False)\n",
    "    liststr='/'.join(seg_list)\n",
    "    print(liststr)\n",
    "    f_stop = open(stopwords_path, encoding = 'utf-8').read()\n",
    "    f_stop_seg_list=f_stop.split('\\n')\n",
    "    for myword in liststr.split('/'):\n",
    "        if not(myword.strip() in f_stop) and len(myword.strip()) > 1:\n",
    "            mywordlist.append(myword)\n",
    "    return mywordlist\n",
    "    #return ''.join(mywordlist)"
   ]
  },
  {
   "cell_type": "code",
   "execution_count": 23,
   "metadata": {},
   "outputs": [
    {
     "name": "stdout",
     "output_type": "stream",
     "text": [
      "很多/开发商/在/项目/盈利模式/与/产品/形态/规划/上/不/统一/，/项目/本来/打算/出售/的/却/规划/成/了/不/适合/销售/的/大面积/、/集中式/商业/产品/形态/，/本来/是/要/自己/持有/经营/的/却/规划/成/了/不/适合/引进/大型/品牌/主力/商家/使用/的/产品/形态/。\n"
     ]
    }
   ],
   "source": [
    "text2 = jiebaclearText(text1)"
   ]
  },
  {
   "cell_type": "code",
   "execution_count": 24,
   "metadata": {},
   "outputs": [
    {
     "name": "stdout",
     "output_type": "stream",
     "text": [
      "['很多', '开发商', '项目', '盈利模式', '产品', '形态', '规划', '统一', '项目', '本来', '打算', '出售', '规划', '适合', '销售', '大面积', '集中式', '商业', '产品', '形态', '本来', '持有', '经营', '规划', '适合', '引进', '大型', '品牌', '主力', '商家', '使用', '产品', '形态']\n"
     ]
    }
   ],
   "source": [
    "print(text2)"
   ]
  },
  {
   "cell_type": "code",
   "execution_count": null,
   "metadata": {},
   "outputs": [],
   "source": []
  }
 ],
 "metadata": {
  "kernelspec": {
   "display_name": "Python 3",
   "language": "python",
   "name": "python3"
  },
  "language_info": {
   "codemirror_mode": {
    "name": "ipython",
    "version": 3
   },
   "file_extension": ".py",
   "mimetype": "text/x-python",
   "name": "python",
   "nbconvert_exporter": "python",
   "pygments_lexer": "ipython3",
   "version": "3.6.3"
  }
 },
 "nbformat": 4,
 "nbformat_minor": 2
}
